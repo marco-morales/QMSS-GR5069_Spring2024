{
  "cells": [
    {
      "cell_type": "markdown",
      "source": [
        "Hello!\n",
        "\n",
        "In this notebook we will be using embeddings to create a semantic search engine over Github issues.\n",
        "\n",
        "But first, we need access to a GPU. To do that, follow these steps:\n",
        "1. Click \"Runtime\" on the menu on the top left corner of your screen.\n",
        "2. Click \"Change runtime type\"\n",
        "3. Under \"Hardware accelerator\" click \"T4 GPU\" and then click \"Save\"\n",
        "\n",
        "Bam -- now you have access to a [T4 GPU](https://www.nvidia.com/en-us/data-center/tesla-t4/)! Pretty easy.\n",
        "\n",
        "Now, install these packages to run this notebook."
      ],
      "metadata": {
        "id": "hfsGbqLHkoRn"
      },
      "id": "hfsGbqLHkoRn"
    },
    {
      "cell_type": "code",
      "source": [
        "!pip install sentence-transformers datasets pandas tqdm transformers faiss-gpu"
      ],
      "metadata": {
        "id": "QxmBr10ZXpTT"
      },
      "id": "QxmBr10ZXpTT",
      "execution_count": null,
      "outputs": []
    },
    {
      "cell_type": "code",
      "source": [
        "import torch\n",
        "import pandas as pd\n",
        "\n",
        "from transformers import AutoTokenizer, AutoModel\n",
        "from datasets import Dataset, load_dataset"
      ],
      "metadata": {
        "id": "5FygP5VdjtFo"
      },
      "id": "5FygP5VdjtFo",
      "execution_count": null,
      "outputs": []
    },
    {
      "cell_type": "markdown",
      "id": "df24e16b",
      "metadata": {
        "id": "df24e16b"
      },
      "source": [
        "# Background\n",
        "\n",
        "We previously learned how logits are the key to an LLM's \"intelligence\". Recall that logits are an unnormalized probability distribution that show how likely each token is to appear next. The logits of a \"good\" LLM should model natural language very well.\n",
        "\n",
        "_Great, we now have high quality logits. But what can we do with them?_\n",
        "\n",
        "Logits don't simply enable an LLM to be good at natural language, i.e. speaking or writing. The logits encode an understanding of what each word means, and to a larger extent, enable the model to understand concepts, ideas, feelings, and more. Through logits, LLMs attempt to understand how our world works.\n",
        "\n",
        "In this section we will talk about one of the downstream use cases for logits: semantic search.\n",
        "\n",
        "\n",
        "_Semantic search_ is a new kind of search engine where the actual _meaning_ of the search query is used for search. This is in contrast to other search engines that use keyword matching or URLs for search. Embeddings from a LLM power semantic search!"
      ]
    },
    {
      "cell_type": "markdown",
      "id": "8010267d",
      "metadata": {
        "id": "8010267d"
      },
      "source": [
        "### Goals\n",
        "\n",
        "In this section we'll use embeddings to develop a semantic search engine for Github issues and comments from the [Datasets repository](https://github.com/huggingface/datasets), a popoular repositroy developed by HuggingFace to manage datasets for AI models.\n",
        "\n",
        "What does this mean?\n",
        "\n",
        "\n",
        "In the [Datasets repository](https://github.com/huggingface/datasets), there are tons of issues posted about the code. The issues can be found here: https://github.com/huggingface/datasets/issues?q=is%3Aissue+is%3Aopen+sort%3Aupdated-desc.\n",
        "\n",
        "However, the search bar on Github is pretty limited. Click on the URL and take a look at all those issues -- there are so many of them! It's hard to search through them with Gitbhub's search bar.\n",
        "\n",
        "So we want to design a better way to search through these issues using semantic search + logits + embeddings.\n",
        "\n",
        "Let's dive in!"
      ]
    },
    {
      "cell_type": "markdown",
      "id": "0cfefda6",
      "metadata": {
        "id": "0cfefda6"
      },
      "source": [
        "# Downloading and Processing Data"
      ]
    },
    {
      "cell_type": "markdown",
      "source": [
        "Let's download a dataset of all the github issues in the Datasets repository. We can do that with the `load_dataset` function."
      ],
      "metadata": {
        "id": "8YCEx5LBVb5w"
      },
      "id": "8YCEx5LBVb5w"
    },
    {
      "cell_type": "code",
      "source": [
        "issues_dataset = load_dataset(\"lewtun/github-issues\", split=\"train\")\n",
        "issues_dataset"
      ],
      "metadata": {
        "colab": {
          "base_uri": "https://localhost:8080/"
        },
        "id": "UuO4argfTGUA",
        "outputId": "c6e2375e-b5ac-4e71-f2f5-cb58b2cb9144"
      },
      "id": "UuO4argfTGUA",
      "execution_count": null,
      "outputs": [
        {
          "output_type": "stream",
          "name": "stderr",
          "text": [
            "/usr/local/lib/python3.10/dist-packages/huggingface_hub/utils/_token.py:88: UserWarning: \n",
            "The secret `HF_TOKEN` does not exist in your Colab secrets.\n",
            "To authenticate with the Hugging Face Hub, create a token in your settings tab (https://huggingface.co/settings/tokens), set it as secret in your Google Colab and restart your session.\n",
            "You will be able to reuse this secret in all of your notebooks.\n",
            "Please note that authentication is recommended but still optional to access public models or datasets.\n",
            "  warnings.warn(\n",
            "/usr/local/lib/python3.10/dist-packages/huggingface_hub/repocard.py:105: UserWarning: Repo card metadata block was not found. Setting CardData to empty.\n",
            "  warnings.warn(\"Repo card metadata block was not found. Setting CardData to empty.\")\n"
          ]
        },
        {
          "output_type": "execute_result",
          "data": {
            "text/plain": [
              "Dataset({\n",
              "    features: ['url', 'repository_url', 'labels_url', 'comments_url', 'events_url', 'html_url', 'id', 'node_id', 'number', 'title', 'user', 'labels', 'state', 'locked', 'assignee', 'assignees', 'milestone', 'comments', 'created_at', 'updated_at', 'closed_at', 'author_association', 'active_lock_reason', 'pull_request', 'body', 'timeline_url', 'performed_via_github_app', 'is_pull_request'],\n",
              "    num_rows: 3019\n",
              "})"
            ]
          },
          "metadata": {},
          "execution_count": 3
        }
      ]
    },
    {
      "cell_type": "markdown",
      "source": [
        "Here is what one entry of this dataset looks like."
      ],
      "metadata": {
        "id": "5NJDAR05Ve95"
      },
      "id": "5NJDAR05Ve95"
    },
    {
      "cell_type": "code",
      "source": [
        "issues_dataset[0]"
      ],
      "metadata": {
        "colab": {
          "base_uri": "https://localhost:8080/"
        },
        "id": "rqtKERQTTKDJ",
        "outputId": "65ee1e03-8027-465e-e1d0-5a0e35cf56b5"
      },
      "id": "rqtKERQTTKDJ",
      "execution_count": null,
      "outputs": [
        {
          "output_type": "execute_result",
          "data": {
            "text/plain": [
              "{'url': 'https://api.github.com/repos/huggingface/datasets/issues/2955',\n",
              " 'repository_url': 'https://api.github.com/repos/huggingface/datasets',\n",
              " 'labels_url': 'https://api.github.com/repos/huggingface/datasets/issues/2955/labels{/name}',\n",
              " 'comments_url': 'https://api.github.com/repos/huggingface/datasets/issues/2955/comments',\n",
              " 'events_url': 'https://api.github.com/repos/huggingface/datasets/issues/2955/events',\n",
              " 'html_url': 'https://github.com/huggingface/datasets/pull/2955',\n",
              " 'id': 1003999469,\n",
              " 'node_id': 'PR_kwDODunzps4sHuRu',\n",
              " 'number': 2955,\n",
              " 'title': 'Update legacy Python image for CI tests in Linux',\n",
              " 'user': {'login': 'albertvillanova',\n",
              "  'id': 8515462,\n",
              "  'node_id': 'MDQ6VXNlcjg1MTU0NjI=',\n",
              "  'avatar_url': 'https://avatars.githubusercontent.com/u/8515462?v=4',\n",
              "  'gravatar_id': '',\n",
              "  'url': 'https://api.github.com/users/albertvillanova',\n",
              "  'html_url': 'https://github.com/albertvillanova',\n",
              "  'followers_url': 'https://api.github.com/users/albertvillanova/followers',\n",
              "  'following_url': 'https://api.github.com/users/albertvillanova/following{/other_user}',\n",
              "  'gists_url': 'https://api.github.com/users/albertvillanova/gists{/gist_id}',\n",
              "  'starred_url': 'https://api.github.com/users/albertvillanova/starred{/owner}{/repo}',\n",
              "  'subscriptions_url': 'https://api.github.com/users/albertvillanova/subscriptions',\n",
              "  'organizations_url': 'https://api.github.com/users/albertvillanova/orgs',\n",
              "  'repos_url': 'https://api.github.com/users/albertvillanova/repos',\n",
              "  'events_url': 'https://api.github.com/users/albertvillanova/events{/privacy}',\n",
              "  'received_events_url': 'https://api.github.com/users/albertvillanova/received_events',\n",
              "  'type': 'User',\n",
              "  'site_admin': False},\n",
              " 'labels': [],\n",
              " 'state': 'open',\n",
              " 'locked': False,\n",
              " 'assignee': None,\n",
              " 'assignees': [],\n",
              " 'milestone': None,\n",
              " 'comments': [],\n",
              " 'created_at': 1632299127000,\n",
              " 'updated_at': 1632302608000,\n",
              " 'closed_at': None,\n",
              " 'author_association': 'MEMBER',\n",
              " 'active_lock_reason': None,\n",
              " 'pull_request': {'url': 'https://api.github.com/repos/huggingface/datasets/pulls/2955',\n",
              "  'html_url': 'https://github.com/huggingface/datasets/pull/2955',\n",
              "  'diff_url': 'https://github.com/huggingface/datasets/pull/2955.diff',\n",
              "  'patch_url': 'https://github.com/huggingface/datasets/pull/2955.patch'},\n",
              " 'body': 'Instead of legacy, use next-generation convenience images, built from the ground up with CI, efficiency, and determinism in mind. Here are some of the highlights:\\r\\n\\r\\n- Faster spin-up time - In Docker terminology, these next-gen images will generally have fewer and smaller layers. Using these new images will lead to faster image downloads when a build starts, and a higher likelihood that the image is already cached on the host.\\r\\n\\r\\n- Improved reliability and stability - The existing legacy convenience images are rebuilt practically every day with potential changes from upstream that we cannot always test fast enough. This leads to frequent breaking changes, which is not the best environment for stable, deterministic builds. Next-gen images will only be rebuilt for security and critical-bugs, leading to more stable and deterministic images.\\r\\n\\r\\nMore info: https://circleci.com/docs/2.0/circleci-images',\n",
              " 'timeline_url': 'https://api.github.com/repos/huggingface/datasets/issues/2955/timeline',\n",
              " 'performed_via_github_app': None,\n",
              " 'is_pull_request': True}"
            ]
          },
          "metadata": {},
          "execution_count": 4
        }
      ]
    },
    {
      "cell_type": "markdown",
      "source": [
        "Q0: How many entries are in this dataset? Hint: a Dataset object has a `len` method."
      ],
      "metadata": {
        "id": "kaozKWxYVzSf"
      },
      "id": "kaozKWxYVzSf"
    },
    {
      "cell_type": "code",
      "source": [
        "# write code for answer here"
      ],
      "metadata": {
        "id": "6VcvvJmBV7qs"
      },
      "id": "6VcvvJmBV7qs",
      "execution_count": null,
      "outputs": []
    },
    {
      "cell_type": "markdown",
      "source": [
        "A0: ANSWER-HERE"
      ],
      "metadata": {
        "id": "jImrfge7V-UR"
      },
      "id": "jImrfge7V-UR"
    },
    {
      "cell_type": "markdown",
      "source": [
        "Now we've got our dataset but there is a lot of data in there that we don't need.\n",
        "\n",
        "Let's filter out the pull requests, as these tend to be rarely used for answering user queries and will introduce noise in our search engine."
      ],
      "metadata": {
        "id": "oxUAT5xATNGp"
      },
      "id": "oxUAT5xATNGp"
    },
    {
      "cell_type": "code",
      "source": [
        "issues_dataset = issues_dataset.filter(\n",
        "    lambda x: (x[\"is_pull_request\"] == False)\n",
        ")\n",
        "issues_dataset"
      ],
      "metadata": {
        "colab": {
          "base_uri": "https://localhost:8080/"
        },
        "id": "dQZhUwHvTY5r",
        "outputId": "18289c19-121b-46d0-f2af-cd19c50b41d7"
      },
      "id": "dQZhUwHvTY5r",
      "execution_count": null,
      "outputs": [
        {
          "output_type": "execute_result",
          "data": {
            "text/plain": [
              "Dataset({\n",
              "    features: ['url', 'repository_url', 'labels_url', 'comments_url', 'events_url', 'html_url', 'id', 'node_id', 'number', 'title', 'user', 'labels', 'state', 'locked', 'assignee', 'assignees', 'milestone', 'comments', 'created_at', 'updated_at', 'closed_at', 'author_association', 'active_lock_reason', 'pull_request', 'body', 'timeline_url', 'performed_via_github_app', 'is_pull_request'],\n",
              "    num_rows: 984\n",
              "})"
            ]
          },
          "metadata": {},
          "execution_count": 6
        }
      ]
    },
    {
      "cell_type": "markdown",
      "source": [
        "While we're at it, let's also filter out rows with no comments, since these provide no answers to user queries. Use the [Dataset.filter()](https://huggingface.co/docs/datasets/v2.18.0/process#select-and-filter) function:"
      ],
      "metadata": {
        "id": "1eB_j6dvTfve"
      },
      "id": "1eB_j6dvTfve"
    },
    {
      "cell_type": "code",
      "source": [
        "# write code here"
      ],
      "metadata": {
        "id": "XTNRSkHBTe0l"
      },
      "id": "XTNRSkHBTe0l",
      "execution_count": null,
      "outputs": []
    },
    {
      "cell_type": "code",
      "source": [
        "assert len(issues_dataset) == 808"
      ],
      "metadata": {
        "id": "iBsd9dCZTjnr"
      },
      "id": "iBsd9dCZTjnr",
      "execution_count": null,
      "outputs": []
    },
    {
      "cell_type": "markdown",
      "source": [
        "We can see that there are a lot of columns in our dataset, most of which we don't need to build our search engine. From a search perspective, the most informative columns are title, body, and comments, while html_url provides us with a link back to the source issue. Let's use the `Dataset.remove_columns()` function to drop the rest.\n",
        "\n",
        "If you need, [here](https://huggingface.co/docs/datasets/v2.18.0/process#remove) is an example showing how you use `Dataset.remove_columns()` function."
      ],
      "metadata": {
        "id": "x6jarNykTr_G"
      },
      "id": "x6jarNykTr_G"
    },
    {
      "cell_type": "code",
      "source": [
        "# write code here"
      ],
      "metadata": {
        "colab": {
          "base_uri": "https://localhost:8080/"
        },
        "id": "AC8bmjWUTxL7",
        "outputId": "5616e5a7-713d-41a6-a06a-fe4006b084ca"
      },
      "id": "AC8bmjWUTxL7",
      "execution_count": null,
      "outputs": [
        {
          "output_type": "execute_result",
          "data": {
            "text/plain": [
              "Dataset({\n",
              "    features: ['html_url', 'title', 'comments', 'body'],\n",
              "    num_rows: 808\n",
              "})"
            ]
          },
          "metadata": {},
          "execution_count": 9
        }
      ]
    },
    {
      "cell_type": "code",
      "source": [
        "assert list(issues_dataset.features.keys()) == ['html_url', 'title', 'comments', 'body']"
      ],
      "metadata": {
        "id": "zlZXyVUPUG-j"
      },
      "id": "zlZXyVUPUG-j",
      "execution_count": null,
      "outputs": []
    },
    {
      "cell_type": "markdown",
      "source": [
        "To create our embeddings we'll augment each comment with the issue’s title and body, since these fields often include useful contextual information. Because our comments column is currently a list of comments for each issue, we need to “explode” the column so that each row consists of an (html_url, title, body, comment) tuple.\n",
        "\n",
        "We'll use Pandas's [DataFrame.explode() function](https://pandas.pydata.org/pandas-docs/stable/reference/api/pandas.DataFrame.explode.html) to do this. So we will temproarily turn our dataset into a Pandas DataFrame and then we'll convert it back into a HuggingFace dataset."
      ],
      "metadata": {
        "id": "zJST2NNjUbsE"
      },
      "id": "zJST2NNjUbsE"
    },
    {
      "cell_type": "code",
      "source": [
        "issues_dataset.set_format(\"pandas\")\n",
        "df = issues_dataset[:]\n",
        "comments_df = df.explode(\"comments\", ignore_index=True)\n",
        "comments_dataset = Dataset.from_pandas(comments_df)\n",
        "comments_dataset"
      ],
      "metadata": {
        "colab": {
          "base_uri": "https://localhost:8080/"
        },
        "id": "0abSpQmEUnBM",
        "outputId": "8f08c6ac-4595-4111-e51b-633b8883207d"
      },
      "id": "0abSpQmEUnBM",
      "execution_count": null,
      "outputs": [
        {
          "output_type": "execute_result",
          "data": {
            "text/plain": [
              "Dataset({\n",
              "    features: ['html_url', 'title', 'comments', 'body'],\n",
              "    num_rows: 2964\n",
              "})"
            ]
          },
          "metadata": {},
          "execution_count": 11
        }
      ]
    },
    {
      "cell_type": "markdown",
      "source": [
        "Now that we have one comment per row, let's create a new comments_length column that contains the number of words per comment:"
      ],
      "metadata": {
        "id": "-n3Nlw-rWYKb"
      },
      "id": "-n3Nlw-rWYKb"
    },
    {
      "cell_type": "code",
      "source": [
        "comments_dataset = comments_dataset.map(\n",
        "    lambda x: {\"comment_length\": len(x[\"comments\"].split())}\n",
        ")\n",
        "\n",
        "comments_dataset"
      ],
      "metadata": {
        "colab": {
          "base_uri": "https://localhost:8080/",
          "height": 118,
          "referenced_widgets": [
            "3ba905cdb0b649149345ff8b805afa8b",
            "0ffcc6fffbbd4e1ab582e967df67fe27",
            "c054268dbf1e48dc97a9aa750165207f",
            "209205a45e104bb89962189962875294",
            "ced21807ad884591887f5aa9d43e0b6f",
            "d71a76a983064de1be589890e7c49dd8",
            "0bd384b7c6064026af2e52c24db462f3",
            "008fe76440674c52bf94bccee11f2c9b",
            "b28174ddf2344410a54c24508517f1e0",
            "2ccd36ccf7d04468921f6fb64c74b2d5",
            "16f1a89e1e064657ba1ca93b7ab5e018"
          ]
        },
        "id": "sSYpMJTBWLnm",
        "outputId": "eb2b17a3-a51a-4ae1-a738-63bdd60478bb"
      },
      "id": "sSYpMJTBWLnm",
      "execution_count": null,
      "outputs": [
        {
          "output_type": "display_data",
          "data": {
            "text/plain": [
              "Map:   0%|          | 0/2964 [00:00<?, ? examples/s]"
            ],
            "application/vnd.jupyter.widget-view+json": {
              "version_major": 2,
              "version_minor": 0,
              "model_id": "3ba905cdb0b649149345ff8b805afa8b"
            }
          },
          "metadata": {}
        },
        {
          "output_type": "execute_result",
          "data": {
            "text/plain": [
              "Dataset({\n",
              "    features: ['html_url', 'title', 'comments', 'body', 'comment_length'],\n",
              "    num_rows: 2964\n",
              "})"
            ]
          },
          "metadata": {},
          "execution_count": 12
        }
      ]
    },
    {
      "cell_type": "markdown",
      "source": [
        "We can use `comment_length` to filter out short comments, which typically include things like “cc @lewtun” or “Thanks!” that are not relevant for our search engine. There's no precise number to select for the filter, but around 15 words seems like a good start.\n",
        "\n",
        "Again, use the [Dataset.filter()](https://huggingface.co/docs/datasets/v2.18.0/process#select-and-filter) function:"
      ],
      "metadata": {
        "id": "V4RURztbWf8d"
      },
      "id": "V4RURztbWf8d"
    },
    {
      "cell_type": "code",
      "source": [
        "# write code here"
      ],
      "metadata": {
        "colab": {
          "base_uri": "https://localhost:8080/",
          "height": 118,
          "referenced_widgets": [
            "ec784eca879840ef983c22db8bc62e2f",
            "a27e3a0a707f4a1582e0269658ea1dd2",
            "29982d73703040f4aeea38fd1fd3bac1",
            "703a76aca6ce4ebea37d7d1541b928c0",
            "43f349bc0ec940d49341aa99032ea76c",
            "f552fd64e16748d2afe180bcc812f023",
            "3bbc39979821498fa76d46b1728353e3",
            "e43d7722fa3c4a7c8d05d8c30e3216f9",
            "f1b491cac5d34ab9b77e7d14080e8e1d",
            "510093547c2144208e8fb6864f370643",
            "817fd5209f9e47149a58ea7fd6a0c7dd"
          ]
        },
        "id": "tNXUokg7Wr-B",
        "outputId": "cae5a4da-41c3-4049-8158-3dda4822aed8"
      },
      "id": "tNXUokg7Wr-B",
      "execution_count": null,
      "outputs": [
        {
          "output_type": "display_data",
          "data": {
            "text/plain": [
              "Filter:   0%|          | 0/2964 [00:00<?, ? examples/s]"
            ],
            "application/vnd.jupyter.widget-view+json": {
              "version_major": 2,
              "version_minor": 0,
              "model_id": "ec784eca879840ef983c22db8bc62e2f"
            }
          },
          "metadata": {}
        },
        {
          "output_type": "execute_result",
          "data": {
            "text/plain": [
              "Dataset({\n",
              "    features: ['html_url', 'title', 'comments', 'body', 'comment_length'],\n",
              "    num_rows: 2175\n",
              "})"
            ]
          },
          "metadata": {},
          "execution_count": 13
        }
      ]
    },
    {
      "cell_type": "code",
      "source": [
        "assert len(comments_dataset) == 2175"
      ],
      "metadata": {
        "id": "c6Ya_ydnWupp"
      },
      "id": "c6Ya_ydnWupp",
      "execution_count": null,
      "outputs": []
    },
    {
      "cell_type": "markdown",
      "source": [
        "Having cleaned up our dataset a bit, let’s concatenate the issue title, description, and comments together in a new text column. As usual, we’ll write a simple function that we can pass to Dataset.map():"
      ],
      "metadata": {
        "id": "zznBTrDXW1YP"
      },
      "id": "zznBTrDXW1YP"
    },
    {
      "cell_type": "code",
      "source": [
        "def concatenate_text(examples):\n",
        "    return {\n",
        "        \"text\": examples[\"title\"]\n",
        "        + \" \\n \"\n",
        "        + examples[\"body\"]\n",
        "        + \" \\n \"\n",
        "        + examples[\"comments\"]\n",
        "    }\n",
        "\n",
        "\n",
        "comments_dataset = comments_dataset.map(concatenate_text)\n",
        "\n",
        "comments_dataset"
      ],
      "metadata": {
        "colab": {
          "base_uri": "https://localhost:8080/",
          "height": 118,
          "referenced_widgets": [
            "734fad5d3784409980a8469eb7bc18ba",
            "49af02ba2753444596d724b5eeb9d8e3",
            "a7d9444c8d824198942d784dd342952b",
            "d859da1a5c0c4d808a206df68cf0b02e",
            "559c55dcfa224cbfa383175536afd33e",
            "c5ab70e53c2c45acabf07bcd08af0acf",
            "9522afe18868460d92b85fbec7f31be3",
            "105bec057705457a83e2490049aff036",
            "9f295f7fab12461fa99b50d248754916",
            "fe6dfc6d1b6144b7a652c096fcddca27",
            "298d7aca755b481b9e9d2adfd4d5ce27"
          ]
        },
        "id": "sGHPddQYW38i",
        "outputId": "d124d9e3-d878-4ab0-80d4-53b34ae1222b"
      },
      "id": "sGHPddQYW38i",
      "execution_count": null,
      "outputs": [
        {
          "output_type": "display_data",
          "data": {
            "text/plain": [
              "Map:   0%|          | 0/2175 [00:00<?, ? examples/s]"
            ],
            "application/vnd.jupyter.widget-view+json": {
              "version_major": 2,
              "version_minor": 0,
              "model_id": "734fad5d3784409980a8469eb7bc18ba"
            }
          },
          "metadata": {}
        },
        {
          "output_type": "execute_result",
          "data": {
            "text/plain": [
              "Dataset({\n",
              "    features: ['html_url', 'title', 'comments', 'body', 'comment_length', 'text'],\n",
              "    num_rows: 2175\n",
              "})"
            ]
          },
          "metadata": {},
          "execution_count": 15
        }
      ]
    },
    {
      "cell_type": "markdown",
      "source": [
        "We've finished processing our dataset!\n",
        "\n",
        "Q2: Please inspect three Github comments from our dataset. Look at the `text` column and summerize what each comment is about."
      ],
      "metadata": {
        "id": "imNDqYHyW7U7"
      },
      "id": "imNDqYHyW7U7"
    },
    {
      "cell_type": "markdown",
      "source": [
        "A2: ANSWER-HERE"
      ],
      "metadata": {
        "id": "zDdLuE5fXJUz"
      },
      "id": "zDdLuE5fXJUz"
    },
    {
      "cell_type": "markdown",
      "source": [
        "# Embed Data\n",
        "\n",
        "We’re finally ready to create some embeddings! Let’s dive in."
      ],
      "metadata": {
        "id": "wOQx0eH0XNxv"
      },
      "id": "wOQx0eH0XNxv"
    },
    {
      "cell_type": "markdown",
      "id": "9ecbb5e8",
      "metadata": {
        "id": "9ecbb5e8"
      },
      "source": [
        "#### Loading a Pretrained Encoder model.\n",
        "\n",
        "We previously downloaded the GPT2 model from HuggingFace. Now we will download a different model, one that specializes in creating logits that are good for semantic search.\n",
        "\n",
        "We will generate embeddings by using [this Sentence Transformers model](https://huggingface.co/sentence-transformers/multi-qa-mpnet-base-dot-v1). It is one of hundreds of encoder models available. Downloads happen automatically with SentenceTransformer, and may take up to a minute the first time."
      ]
    },
    {
      "cell_type": "code",
      "execution_count": null,
      "id": "b4ed4a8c",
      "metadata": {
        "id": "b4ed4a8c"
      },
      "outputs": [],
      "source": [
        "model_id = \"sentence-transformers/multi-qa-mpnet-base-dot-v1\"\n",
        "tokenizer = AutoTokenizer.from_pretrained(model_id)\n",
        "model = AutoModel.from_pretrained(model_id)"
      ]
    },
    {
      "cell_type": "markdown",
      "source": [
        "To speed up the embedding process, it helps to place the model and inputs on a GPU device. If there is no GPU avaliable, it will take too long to create these embeddings. In that case, you'll simply need to download the embeddings (which I already computed) by running\n",
        "\n",
        "```python\n",
        "embeddings_dataset = load_dataset(\"eitanturok/github-issues-embeddings\", split=\"train\")\n",
        "```\n",
        "\n",
        "However, you hopefully won't need to do this. Now, let's go back to placing the model on the GPU."
      ],
      "metadata": {
        "id": "GbMqpCSLZKNm"
      },
      "id": "GbMqpCSLZKNm"
    },
    {
      "cell_type": "code",
      "source": [
        "device = \"cuda\" if torch.cuda.is_available() else \"cpu\"\n",
        "model.to(device)"
      ],
      "metadata": {
        "colab": {
          "base_uri": "https://localhost:8080/"
        },
        "id": "IzIck0dKY_wH",
        "outputId": "ee8bc27d-da6e-4559-c1c3-d9fb5c8d8d7a"
      },
      "id": "IzIck0dKY_wH",
      "execution_count": null,
      "outputs": [
        {
          "output_type": "execute_result",
          "data": {
            "text/plain": [
              "MPNetModel(\n",
              "  (embeddings): MPNetEmbeddings(\n",
              "    (word_embeddings): Embedding(30527, 768, padding_idx=1)\n",
              "    (position_embeddings): Embedding(514, 768, padding_idx=1)\n",
              "    (LayerNorm): LayerNorm((768,), eps=1e-05, elementwise_affine=True)\n",
              "    (dropout): Dropout(p=0.1, inplace=False)\n",
              "  )\n",
              "  (encoder): MPNetEncoder(\n",
              "    (layer): ModuleList(\n",
              "      (0-11): 12 x MPNetLayer(\n",
              "        (attention): MPNetAttention(\n",
              "          (attn): MPNetSelfAttention(\n",
              "            (q): Linear(in_features=768, out_features=768, bias=True)\n",
              "            (k): Linear(in_features=768, out_features=768, bias=True)\n",
              "            (v): Linear(in_features=768, out_features=768, bias=True)\n",
              "            (o): Linear(in_features=768, out_features=768, bias=True)\n",
              "            (dropout): Dropout(p=0.1, inplace=False)\n",
              "          )\n",
              "          (LayerNorm): LayerNorm((768,), eps=1e-05, elementwise_affine=True)\n",
              "          (dropout): Dropout(p=0.1, inplace=False)\n",
              "        )\n",
              "        (intermediate): MPNetIntermediate(\n",
              "          (dense): Linear(in_features=768, out_features=3072, bias=True)\n",
              "          (intermediate_act_fn): GELUActivation()\n",
              "        )\n",
              "        (output): MPNetOutput(\n",
              "          (dense): Linear(in_features=3072, out_features=768, bias=True)\n",
              "          (LayerNorm): LayerNorm((768,), eps=1e-05, elementwise_affine=True)\n",
              "          (dropout): Dropout(p=0.1, inplace=False)\n",
              "        )\n",
              "      )\n",
              "    )\n",
              "    (relative_attention_bias): Embedding(32, 12)\n",
              "  )\n",
              "  (pooler): MPNetPooler(\n",
              "    (dense): Linear(in_features=768, out_features=768, bias=True)\n",
              "    (activation): Tanh()\n",
              "  )\n",
              ")"
            ]
          },
          "metadata": {},
          "execution_count": 17
        }
      ]
    },
    {
      "cell_type": "markdown",
      "source": [
        "We’d like to represent each entry in our GitHub issues corpus as a single vector. How can we do that?\n",
        "\n",
        "Here is where the logits come into play!\n",
        "\n",
        "If we take a single Github issue, input it into our model, and take the outputted logits -- this is a single vector that should capture all the meaning of our Github issue.\n",
        "\n",
        "Let's do this. Here is a function that extracts the model logits form the model output."
      ],
      "metadata": {
        "id": "kKa6w6f0a0SX"
      },
      "id": "kKa6w6f0a0SX"
    },
    {
      "cell_type": "code",
      "source": [
        "def get_logits(model_output):\n",
        "    return model_output.last_hidden_state[:, 0]"
      ],
      "metadata": {
        "id": "UkrSNzqibEBH"
      },
      "id": "UkrSNzqibEBH",
      "execution_count": null,
      "outputs": []
    },
    {
      "cell_type": "markdown",
      "source": [
        "Now let's look at the text of a single Github comment in our dataset. We will want to embed this text and got the logits for it."
      ],
      "metadata": {
        "id": "rkRBkGRQiH_5"
      },
      "id": "rkRBkGRQiH_5"
    },
    {
      "cell_type": "code",
      "source": [
        "text = comments_dataset[\"text\"][0]\n",
        "print(text)"
      ],
      "metadata": {
        "colab": {
          "base_uri": "https://localhost:8080/"
        },
        "id": "AQQvkhKIiIep",
        "outputId": "f1343568-9881-4340-a7b0-8ba7a83d20d5"
      },
      "id": "AQQvkhKIiIep",
      "execution_count": null,
      "outputs": [
        {
          "output_type": "stream",
          "name": "stdout",
          "text": [
            "Protect master branch \n",
            " After accidental merge commit (91c55355b634d0dc73350a7ddee1a6776dbbdd69) into `datasets` master branch, all commits present in the feature branch were permanently added to `datasets` master branch history, as e.g.:\r\n",
            "- 00cc036fea7c7745cfe722360036ed306796a3f2\r\n",
            "- 13ae8c98602bbad8197de3b9b425f4c78f582af1\r\n",
            "- ...\r\n",
            "\r\n",
            "I propose to protect our master branch, so that we avoid we can accidentally make this kind of mistakes in the future:\r\n",
            "- [x] For Pull Requests using GitHub, allow only squash merging, so that only a single commit per Pull Request is merged into the master branch\r\n",
            "  - Currently, simple merge commits are already disabled\r\n",
            "  - I propose to disable rebase merging as well\r\n",
            "- ~~Protect the master branch from direct pushes (to avoid accidentally pushing of merge commits)~~\r\n",
            "  - ~~This protection would reject direct pushes to master branch~~\r\n",
            "  - ~~If so, for each release (when we need to commit directly to the master branch), we should previously disable the protection and re-enable it again after the release~~\r\n",
            "- [x] Protect the master branch only from direct pushing of **merge commits**\r\n",
            "  - GitHub offers the possibility to protect the master branch only from merge commits (which are the ones that introduce all the commits from the feature branch into the master branch).\r\n",
            "  - No need to disable/re-enable this protection on each release \r\n",
            "\r\n",
            "This purpose of this Issue is to open a discussion about this problem and to agree in a solution. \n",
            " @lhoestq now the 2 are implemented.\r\n",
            "\r\n",
            "Please note that for the the second protection, finally I have chosen to protect the master branch only from **merge commits** (see update comment above), so no need to disable/re-enable the protection on each release (direct commits, different from merge commits, can be pushed to the remote master branch; and eventually reverted without messing up the repo history).\n"
          ]
        }
      ]
    },
    {
      "cell_type": "markdown",
      "source": [
        "Now, using `text` and the `get_logits` function, fill in `get_embeddings`. `get_embeddings` should tokenize `text`, place the tokenized text on the GPU, feeds it into the model, and then calls `get_logits()` on the model output and then returns the logits."
      ],
      "metadata": {
        "id": "AN9d6004bHOq"
      },
      "id": "AN9d6004bHOq"
    },
    {
      "cell_type": "code",
      "source": [
        "# Write answer here.\n",
        "\n",
        "def get_embeddings(text: str):\n",
        "  pass"
      ],
      "metadata": {
        "id": "hYvSh-_DbF3Z"
      },
      "id": "hYvSh-_DbF3Z",
      "execution_count": null,
      "outputs": []
    },
    {
      "cell_type": "markdown",
      "source": [
        "We can use Dataset.map() to apply our get_embeddings() function to each piece of text in `comments_dataset`, so let’s create a new embeddings column as follows:"
      ],
      "metadata": {
        "id": "zR-P7gCkcV1Z"
      },
      "id": "zR-P7gCkcV1Z"
    },
    {
      "cell_type": "code",
      "source": [
        "embeddings_dataset = comments_dataset.map(\n",
        "    lambda x: {\"embeddings\": get_embeddings(x[\"text\"]).detach().cpu().numpy()[0]}\n",
        ")"
      ],
      "metadata": {
        "id": "QXXTBdf3ba7a"
      },
      "id": "QXXTBdf3ba7a",
      "execution_count": null,
      "outputs": []
    },
    {
      "cell_type": "markdown",
      "source": [
        "Notice that we’ve converted the embeddings to NumPy arrays — that’s because 🤗 Datasets requires this format when we try to index them with FAISS, which we’ll do next. Now let's inspect the embeddings a bit:"
      ],
      "metadata": {
        "id": "43ah5_MditzP"
      },
      "id": "43ah5_MditzP"
    },
    {
      "cell_type": "code",
      "source": [
        "embeddings_dataset"
      ],
      "metadata": {
        "id": "pq1AjfQDipvI"
      },
      "id": "pq1AjfQDipvI",
      "execution_count": null,
      "outputs": []
    },
    {
      "cell_type": "code",
      "source": [
        "embeddings_dataset[0]"
      ],
      "metadata": {
        "id": "7BrvuCyMirAX"
      },
      "id": "7BrvuCyMirAX",
      "execution_count": null,
      "outputs": []
    },
    {
      "cell_type": "markdown",
      "source": [
        "Q3: How many dimensions is the embedding of each Github comment?"
      ],
      "metadata": {
        "id": "AmGomJOxhOUQ"
      },
      "id": "AmGomJOxhOUQ"
    },
    {
      "cell_type": "markdown",
      "source": [
        "A3:"
      ],
      "metadata": {
        "id": "m4mqgGMAhXGh"
      },
      "id": "m4mqgGMAhXGh"
    },
    {
      "cell_type": "markdown",
      "source": [
        "# Semantic Search\n",
        "\n",
        "Now that we have a dataset of embeddings, we need some way to search over them. To do this, we’ll use a special data structure in 🤗 Datasets called a FAISS index. FAISS is a vector database create by Facebook that provides efficient algorithms to quickly search and cluster embedding vectors.\n",
        "\n",
        "The basic idea behind FAISS is to create a special data structure called an index -- this is the heart of the vector database -- that allows one to find which embeddings are similar to an input embedding.\n",
        "\n",
        "Creating a FAISS index in 🤗 Datasets is simple — we use the Dataset.add_faiss_index() function and specify which column of our dataset we’d like to index:\n"
      ],
      "metadata": {
        "id": "61JTDAmqiyTW"
      },
      "id": "61JTDAmqiyTW"
    },
    {
      "cell_type": "code",
      "source": [
        "embeddings_dataset.add_faiss_index(column=\"embeddings\")"
      ],
      "metadata": {
        "id": "oOO0oDUAjHZo"
      },
      "id": "oOO0oDUAjHZo",
      "execution_count": null,
      "outputs": []
    },
    {
      "cell_type": "markdown",
      "source": [
        "We can now perform queries on this index by doing a nearest neighbor lookup with the Dataset.get_nearest_examples() function. Let’s test this out by first embedding a question as follows:\n"
      ],
      "metadata": {
        "id": "636CY1_rjXyY"
      },
      "id": "636CY1_rjXyY"
    },
    {
      "cell_type": "code",
      "source": [
        "question = \"How can I load a dataset offline?\"\n",
        "question_embedding = get_embeddings([question]).cpu().detach().numpy()\n",
        "question_embedding.shape"
      ],
      "metadata": {
        "id": "_09Us6APjh-3"
      },
      "id": "_09Us6APjh-3",
      "execution_count": null,
      "outputs": []
    },
    {
      "cell_type": "markdown",
      "source": [
        "Just like with the documents, we now have a 768-dimensional vector representing the query, which we can compare against the whole corpus to find the most similar embeddings:"
      ],
      "metadata": {
        "id": "uJc0fR2vjmwP"
      },
      "id": "uJc0fR2vjmwP"
    },
    {
      "cell_type": "code",
      "source": [
        "scores, samples = embeddings_dataset.get_nearest_examples(\n",
        "    \"embeddings\", question_embedding, k=5\n",
        ")"
      ],
      "metadata": {
        "id": "Nc_-N6OTjpbA"
      },
      "id": "Nc_-N6OTjpbA",
      "execution_count": null,
      "outputs": []
    },
    {
      "cell_type": "markdown",
      "source": [
        "The Dataset.get_nearest_examples() function returns a tuple of scores that rank the overlap between the query and the document, and a corresponding set of samples (here, the 5 best matches). Let’s collect these in a pandas.DataFrame so we can easily sort them:"
      ],
      "metadata": {
        "id": "ZrRrPlhqlwbC"
      },
      "id": "ZrRrPlhqlwbC"
    },
    {
      "cell_type": "code",
      "source": [
        "samples_df = pd.DataFrame.from_dict(samples)\n",
        "samples_df[\"scores\"] = scores\n",
        "samples_df.sort_values(\"scores\", ascending=False, inplace=True)"
      ],
      "metadata": {
        "id": "YzaM5agsl0H_"
      },
      "id": "YzaM5agsl0H_",
      "execution_count": null,
      "outputs": []
    },
    {
      "cell_type": "markdown",
      "source": [
        "Now we can iterate over the first few rows to see how well our query matched the available comments:"
      ],
      "metadata": {
        "id": "rQv26R7CmVni"
      },
      "id": "rQv26R7CmVni"
    },
    {
      "cell_type": "code",
      "source": [
        "for _, row in samples_df.iterrows():\n",
        "    print(f\"SIMILARITY SCORE: {row.scores}\")\n",
        "    print(f\"TITLE: {row.title}\")\n",
        "    print(f\"URL: {row.html_url}\")\n",
        "    print(f\"COMMENT: {row.comments}\")\n",
        "    print(\"=\" * 50)\n",
        "    print()"
      ],
      "metadata": {
        "id": "BqJFEoc7mXPL"
      },
      "id": "BqJFEoc7mXPL",
      "execution_count": null,
      "outputs": []
    },
    {
      "cell_type": "markdown",
      "source": [
        "This is great!!!\n",
        "\n",
        "By using semantic search, we got the five Github issues that are most similar to our query \"How can I load a dataset offline?\"\n",
        "\n",
        "To recap, we got these results by:\n",
        "1. embedding all of the Github issues\n",
        "2. putting these embeddings in a vector database\n",
        "3. embedding the query \"How can I load a dataset offline?\"\n",
        "4. finding which embeddings in the vector database are most similar to the query's embedding\n",
        "\n",
        "Congrats -- these are the steps for how to implement a semantic search engine! You just built a semantic search engine!"
      ],
      "metadata": {
        "id": "Dvbs8psgneOr"
      },
      "id": "Dvbs8psgneOr"
    },
    {
      "cell_type": "markdown",
      "source": [
        "### Questions"
      ],
      "metadata": {
        "id": "CzQWSJAdqZGV"
      },
      "id": "CzQWSJAdqZGV"
    },
    {
      "cell_type": "markdown",
      "source": [
        "Q4: Manually inspect the first two Github issues we returned -- click on their \"URL\"s. Look through the Github issue there -- do these issues actually have to do with loading a dataset offline?"
      ],
      "metadata": {
        "id": "Hz6sSBI-qYAj"
      },
      "id": "Hz6sSBI-qYAj"
    },
    {
      "cell_type": "markdown",
      "source": [
        "A4: ANSWER-HERE"
      ],
      "metadata": {
        "id": "x_ByLjP9oA7l"
      },
      "id": "x_ByLjP9oA7l"
    },
    {
      "cell_type": "markdown",
      "source": [
        "Q5: We want to compare our semantic search engine to Github's search engine which works like a traditional search based on keywords. Does Github's search engine give the same results we got for our query \"How can I load a dataset offline?\".\n",
        "\n",
        "To compare these, please go to the datasets repository on Github here: https://github.com/huggingface/datasets.\n",
        "\n",
        "Navigate to the issues tab and go to the search bar in the middle of the screen (it should say filters next to it). Delete \"is:open\" and \"sort:updated-desc\" but keep \"is:issue\" -- these are tags that Github uses to filter our search. Then enter our query into the search bar \"How can I load a dataset offline?\".\n",
        "\n",
        "Take a look at the results from Github's search engine. How many of the search results given by Github's search engine did we also get with our semantic search engine?"
      ],
      "metadata": {
        "id": "zLyow7egoCbf"
      },
      "id": "zLyow7egoCbf"
    },
    {
      "cell_type": "markdown",
      "source": [
        "A5: ANSWER-HERE"
      ],
      "metadata": {
        "id": "Hf2lDn-ZpoC1"
      },
      "id": "Hf2lDn-ZpoC1"
    },
    {
      "cell_type": "markdown",
      "source": [
        "Q6: Are there any Github issues that our search engine returned but Github's search engine did not return? What about vice versa?"
      ],
      "metadata": {
        "id": "gGTUWz0eppo9"
      },
      "id": "gGTUWz0eppo9"
    },
    {
      "cell_type": "markdown",
      "source": [
        "A6: ANSWER-HERE"
      ],
      "metadata": {
        "id": "1XUABmhEpzra"
      },
      "id": "1XUABmhEpzra"
    },
    {
      "cell_type": "markdown",
      "source": [
        "Q7: Which search engine do you think returned more relevant results to the query \"How can I load a dataset offline?\"? In other words, which search engine do you think did a better job for this one example?"
      ],
      "metadata": {
        "id": "kAQeOBUgp1bs"
      },
      "id": "kAQeOBUgp1bs"
    },
    {
      "cell_type": "markdown",
      "source": [
        "A7: ANSWER-HERE"
      ],
      "metadata": {
        "id": "0jyIQplyp_Tx"
      },
      "id": "0jyIQplyp_Tx"
    }
  ],
  "metadata": {
    "colab": {
      "collapsed_sections": [
        "25a13a56",
        "bb16d277"
      ],
      "provenance": [],
      "gpuType": "T4"
    },
    "kernelspec": {
      "display_name": "Python 3",
      "name": "python3"
    },
    "language_info": {
      "codemirror_mode": {
        "name": "ipython",
        "version": 3
      },
      "file_extension": ".py",
      "mimetype": "text/x-python",
      "name": "python",
      "nbconvert_exporter": "python",
      "pygments_lexer": "ipython3",
      "version": "3.8.13 (default, Mar 28 2022, 06:59:08) [MSC v.1916 64 bit (AMD64)]"
    },
    "vscode": {
      "interpreter": {
        "hash": "5fe10bf018ef3e697f9035d60bf60847932a12bface18908407fd371fe880db9"
      }
    },
    "widgets": {
      "application/vnd.jupyter.widget-state+json": {
        "3ba905cdb0b649149345ff8b805afa8b": {
          "model_module": "@jupyter-widgets/controls",
          "model_name": "HBoxModel",
          "model_module_version": "1.5.0",
          "state": {
            "_dom_classes": [],
            "_model_module": "@jupyter-widgets/controls",
            "_model_module_version": "1.5.0",
            "_model_name": "HBoxModel",
            "_view_count": null,
            "_view_module": "@jupyter-widgets/controls",
            "_view_module_version": "1.5.0",
            "_view_name": "HBoxView",
            "box_style": "",
            "children": [
              "IPY_MODEL_0ffcc6fffbbd4e1ab582e967df67fe27",
              "IPY_MODEL_c054268dbf1e48dc97a9aa750165207f",
              "IPY_MODEL_209205a45e104bb89962189962875294"
            ],
            "layout": "IPY_MODEL_ced21807ad884591887f5aa9d43e0b6f"
          }
        },
        "0ffcc6fffbbd4e1ab582e967df67fe27": {
          "model_module": "@jupyter-widgets/controls",
          "model_name": "HTMLModel",
          "model_module_version": "1.5.0",
          "state": {
            "_dom_classes": [],
            "_model_module": "@jupyter-widgets/controls",
            "_model_module_version": "1.5.0",
            "_model_name": "HTMLModel",
            "_view_count": null,
            "_view_module": "@jupyter-widgets/controls",
            "_view_module_version": "1.5.0",
            "_view_name": "HTMLView",
            "description": "",
            "description_tooltip": null,
            "layout": "IPY_MODEL_d71a76a983064de1be589890e7c49dd8",
            "placeholder": "​",
            "style": "IPY_MODEL_0bd384b7c6064026af2e52c24db462f3",
            "value": "Map: 100%"
          }
        },
        "c054268dbf1e48dc97a9aa750165207f": {
          "model_module": "@jupyter-widgets/controls",
          "model_name": "FloatProgressModel",
          "model_module_version": "1.5.0",
          "state": {
            "_dom_classes": [],
            "_model_module": "@jupyter-widgets/controls",
            "_model_module_version": "1.5.0",
            "_model_name": "FloatProgressModel",
            "_view_count": null,
            "_view_module": "@jupyter-widgets/controls",
            "_view_module_version": "1.5.0",
            "_view_name": "ProgressView",
            "bar_style": "success",
            "description": "",
            "description_tooltip": null,
            "layout": "IPY_MODEL_008fe76440674c52bf94bccee11f2c9b",
            "max": 2964,
            "min": 0,
            "orientation": "horizontal",
            "style": "IPY_MODEL_b28174ddf2344410a54c24508517f1e0",
            "value": 2964
          }
        },
        "209205a45e104bb89962189962875294": {
          "model_module": "@jupyter-widgets/controls",
          "model_name": "HTMLModel",
          "model_module_version": "1.5.0",
          "state": {
            "_dom_classes": [],
            "_model_module": "@jupyter-widgets/controls",
            "_model_module_version": "1.5.0",
            "_model_name": "HTMLModel",
            "_view_count": null,
            "_view_module": "@jupyter-widgets/controls",
            "_view_module_version": "1.5.0",
            "_view_name": "HTMLView",
            "description": "",
            "description_tooltip": null,
            "layout": "IPY_MODEL_2ccd36ccf7d04468921f6fb64c74b2d5",
            "placeholder": "​",
            "style": "IPY_MODEL_16f1a89e1e064657ba1ca93b7ab5e018",
            "value": " 2964/2964 [00:00&lt;00:00, 5268.10 examples/s]"
          }
        },
        "ced21807ad884591887f5aa9d43e0b6f": {
          "model_module": "@jupyter-widgets/base",
          "model_name": "LayoutModel",
          "model_module_version": "1.2.0",
          "state": {
            "_model_module": "@jupyter-widgets/base",
            "_model_module_version": "1.2.0",
            "_model_name": "LayoutModel",
            "_view_count": null,
            "_view_module": "@jupyter-widgets/base",
            "_view_module_version": "1.2.0",
            "_view_name": "LayoutView",
            "align_content": null,
            "align_items": null,
            "align_self": null,
            "border": null,
            "bottom": null,
            "display": null,
            "flex": null,
            "flex_flow": null,
            "grid_area": null,
            "grid_auto_columns": null,
            "grid_auto_flow": null,
            "grid_auto_rows": null,
            "grid_column": null,
            "grid_gap": null,
            "grid_row": null,
            "grid_template_areas": null,
            "grid_template_columns": null,
            "grid_template_rows": null,
            "height": null,
            "justify_content": null,
            "justify_items": null,
            "left": null,
            "margin": null,
            "max_height": null,
            "max_width": null,
            "min_height": null,
            "min_width": null,
            "object_fit": null,
            "object_position": null,
            "order": null,
            "overflow": null,
            "overflow_x": null,
            "overflow_y": null,
            "padding": null,
            "right": null,
            "top": null,
            "visibility": null,
            "width": null
          }
        },
        "d71a76a983064de1be589890e7c49dd8": {
          "model_module": "@jupyter-widgets/base",
          "model_name": "LayoutModel",
          "model_module_version": "1.2.0",
          "state": {
            "_model_module": "@jupyter-widgets/base",
            "_model_module_version": "1.2.0",
            "_model_name": "LayoutModel",
            "_view_count": null,
            "_view_module": "@jupyter-widgets/base",
            "_view_module_version": "1.2.0",
            "_view_name": "LayoutView",
            "align_content": null,
            "align_items": null,
            "align_self": null,
            "border": null,
            "bottom": null,
            "display": null,
            "flex": null,
            "flex_flow": null,
            "grid_area": null,
            "grid_auto_columns": null,
            "grid_auto_flow": null,
            "grid_auto_rows": null,
            "grid_column": null,
            "grid_gap": null,
            "grid_row": null,
            "grid_template_areas": null,
            "grid_template_columns": null,
            "grid_template_rows": null,
            "height": null,
            "justify_content": null,
            "justify_items": null,
            "left": null,
            "margin": null,
            "max_height": null,
            "max_width": null,
            "min_height": null,
            "min_width": null,
            "object_fit": null,
            "object_position": null,
            "order": null,
            "overflow": null,
            "overflow_x": null,
            "overflow_y": null,
            "padding": null,
            "right": null,
            "top": null,
            "visibility": null,
            "width": null
          }
        },
        "0bd384b7c6064026af2e52c24db462f3": {
          "model_module": "@jupyter-widgets/controls",
          "model_name": "DescriptionStyleModel",
          "model_module_version": "1.5.0",
          "state": {
            "_model_module": "@jupyter-widgets/controls",
            "_model_module_version": "1.5.0",
            "_model_name": "DescriptionStyleModel",
            "_view_count": null,
            "_view_module": "@jupyter-widgets/base",
            "_view_module_version": "1.2.0",
            "_view_name": "StyleView",
            "description_width": ""
          }
        },
        "008fe76440674c52bf94bccee11f2c9b": {
          "model_module": "@jupyter-widgets/base",
          "model_name": "LayoutModel",
          "model_module_version": "1.2.0",
          "state": {
            "_model_module": "@jupyter-widgets/base",
            "_model_module_version": "1.2.0",
            "_model_name": "LayoutModel",
            "_view_count": null,
            "_view_module": "@jupyter-widgets/base",
            "_view_module_version": "1.2.0",
            "_view_name": "LayoutView",
            "align_content": null,
            "align_items": null,
            "align_self": null,
            "border": null,
            "bottom": null,
            "display": null,
            "flex": null,
            "flex_flow": null,
            "grid_area": null,
            "grid_auto_columns": null,
            "grid_auto_flow": null,
            "grid_auto_rows": null,
            "grid_column": null,
            "grid_gap": null,
            "grid_row": null,
            "grid_template_areas": null,
            "grid_template_columns": null,
            "grid_template_rows": null,
            "height": null,
            "justify_content": null,
            "justify_items": null,
            "left": null,
            "margin": null,
            "max_height": null,
            "max_width": null,
            "min_height": null,
            "min_width": null,
            "object_fit": null,
            "object_position": null,
            "order": null,
            "overflow": null,
            "overflow_x": null,
            "overflow_y": null,
            "padding": null,
            "right": null,
            "top": null,
            "visibility": null,
            "width": null
          }
        },
        "b28174ddf2344410a54c24508517f1e0": {
          "model_module": "@jupyter-widgets/controls",
          "model_name": "ProgressStyleModel",
          "model_module_version": "1.5.0",
          "state": {
            "_model_module": "@jupyter-widgets/controls",
            "_model_module_version": "1.5.0",
            "_model_name": "ProgressStyleModel",
            "_view_count": null,
            "_view_module": "@jupyter-widgets/base",
            "_view_module_version": "1.2.0",
            "_view_name": "StyleView",
            "bar_color": null,
            "description_width": ""
          }
        },
        "2ccd36ccf7d04468921f6fb64c74b2d5": {
          "model_module": "@jupyter-widgets/base",
          "model_name": "LayoutModel",
          "model_module_version": "1.2.0",
          "state": {
            "_model_module": "@jupyter-widgets/base",
            "_model_module_version": "1.2.0",
            "_model_name": "LayoutModel",
            "_view_count": null,
            "_view_module": "@jupyter-widgets/base",
            "_view_module_version": "1.2.0",
            "_view_name": "LayoutView",
            "align_content": null,
            "align_items": null,
            "align_self": null,
            "border": null,
            "bottom": null,
            "display": null,
            "flex": null,
            "flex_flow": null,
            "grid_area": null,
            "grid_auto_columns": null,
            "grid_auto_flow": null,
            "grid_auto_rows": null,
            "grid_column": null,
            "grid_gap": null,
            "grid_row": null,
            "grid_template_areas": null,
            "grid_template_columns": null,
            "grid_template_rows": null,
            "height": null,
            "justify_content": null,
            "justify_items": null,
            "left": null,
            "margin": null,
            "max_height": null,
            "max_width": null,
            "min_height": null,
            "min_width": null,
            "object_fit": null,
            "object_position": null,
            "order": null,
            "overflow": null,
            "overflow_x": null,
            "overflow_y": null,
            "padding": null,
            "right": null,
            "top": null,
            "visibility": null,
            "width": null
          }
        },
        "16f1a89e1e064657ba1ca93b7ab5e018": {
          "model_module": "@jupyter-widgets/controls",
          "model_name": "DescriptionStyleModel",
          "model_module_version": "1.5.0",
          "state": {
            "_model_module": "@jupyter-widgets/controls",
            "_model_module_version": "1.5.0",
            "_model_name": "DescriptionStyleModel",
            "_view_count": null,
            "_view_module": "@jupyter-widgets/base",
            "_view_module_version": "1.2.0",
            "_view_name": "StyleView",
            "description_width": ""
          }
        },
        "ec784eca879840ef983c22db8bc62e2f": {
          "model_module": "@jupyter-widgets/controls",
          "model_name": "HBoxModel",
          "model_module_version": "1.5.0",
          "state": {
            "_dom_classes": [],
            "_model_module": "@jupyter-widgets/controls",
            "_model_module_version": "1.5.0",
            "_model_name": "HBoxModel",
            "_view_count": null,
            "_view_module": "@jupyter-widgets/controls",
            "_view_module_version": "1.5.0",
            "_view_name": "HBoxView",
            "box_style": "",
            "children": [
              "IPY_MODEL_a27e3a0a707f4a1582e0269658ea1dd2",
              "IPY_MODEL_29982d73703040f4aeea38fd1fd3bac1",
              "IPY_MODEL_703a76aca6ce4ebea37d7d1541b928c0"
            ],
            "layout": "IPY_MODEL_43f349bc0ec940d49341aa99032ea76c"
          }
        },
        "a27e3a0a707f4a1582e0269658ea1dd2": {
          "model_module": "@jupyter-widgets/controls",
          "model_name": "HTMLModel",
          "model_module_version": "1.5.0",
          "state": {
            "_dom_classes": [],
            "_model_module": "@jupyter-widgets/controls",
            "_model_module_version": "1.5.0",
            "_model_name": "HTMLModel",
            "_view_count": null,
            "_view_module": "@jupyter-widgets/controls",
            "_view_module_version": "1.5.0",
            "_view_name": "HTMLView",
            "description": "",
            "description_tooltip": null,
            "layout": "IPY_MODEL_f552fd64e16748d2afe180bcc812f023",
            "placeholder": "​",
            "style": "IPY_MODEL_3bbc39979821498fa76d46b1728353e3",
            "value": "Filter: 100%"
          }
        },
        "29982d73703040f4aeea38fd1fd3bac1": {
          "model_module": "@jupyter-widgets/controls",
          "model_name": "FloatProgressModel",
          "model_module_version": "1.5.0",
          "state": {
            "_dom_classes": [],
            "_model_module": "@jupyter-widgets/controls",
            "_model_module_version": "1.5.0",
            "_model_name": "FloatProgressModel",
            "_view_count": null,
            "_view_module": "@jupyter-widgets/controls",
            "_view_module_version": "1.5.0",
            "_view_name": "ProgressView",
            "bar_style": "success",
            "description": "",
            "description_tooltip": null,
            "layout": "IPY_MODEL_e43d7722fa3c4a7c8d05d8c30e3216f9",
            "max": 2964,
            "min": 0,
            "orientation": "horizontal",
            "style": "IPY_MODEL_f1b491cac5d34ab9b77e7d14080e8e1d",
            "value": 2964
          }
        },
        "703a76aca6ce4ebea37d7d1541b928c0": {
          "model_module": "@jupyter-widgets/controls",
          "model_name": "HTMLModel",
          "model_module_version": "1.5.0",
          "state": {
            "_dom_classes": [],
            "_model_module": "@jupyter-widgets/controls",
            "_model_module_version": "1.5.0",
            "_model_name": "HTMLModel",
            "_view_count": null,
            "_view_module": "@jupyter-widgets/controls",
            "_view_module_version": "1.5.0",
            "_view_name": "HTMLView",
            "description": "",
            "description_tooltip": null,
            "layout": "IPY_MODEL_510093547c2144208e8fb6864f370643",
            "placeholder": "​",
            "style": "IPY_MODEL_817fd5209f9e47149a58ea7fd6a0c7dd",
            "value": " 2964/2964 [00:00&lt;00:00, 18620.25 examples/s]"
          }
        },
        "43f349bc0ec940d49341aa99032ea76c": {
          "model_module": "@jupyter-widgets/base",
          "model_name": "LayoutModel",
          "model_module_version": "1.2.0",
          "state": {
            "_model_module": "@jupyter-widgets/base",
            "_model_module_version": "1.2.0",
            "_model_name": "LayoutModel",
            "_view_count": null,
            "_view_module": "@jupyter-widgets/base",
            "_view_module_version": "1.2.0",
            "_view_name": "LayoutView",
            "align_content": null,
            "align_items": null,
            "align_self": null,
            "border": null,
            "bottom": null,
            "display": null,
            "flex": null,
            "flex_flow": null,
            "grid_area": null,
            "grid_auto_columns": null,
            "grid_auto_flow": null,
            "grid_auto_rows": null,
            "grid_column": null,
            "grid_gap": null,
            "grid_row": null,
            "grid_template_areas": null,
            "grid_template_columns": null,
            "grid_template_rows": null,
            "height": null,
            "justify_content": null,
            "justify_items": null,
            "left": null,
            "margin": null,
            "max_height": null,
            "max_width": null,
            "min_height": null,
            "min_width": null,
            "object_fit": null,
            "object_position": null,
            "order": null,
            "overflow": null,
            "overflow_x": null,
            "overflow_y": null,
            "padding": null,
            "right": null,
            "top": null,
            "visibility": null,
            "width": null
          }
        },
        "f552fd64e16748d2afe180bcc812f023": {
          "model_module": "@jupyter-widgets/base",
          "model_name": "LayoutModel",
          "model_module_version": "1.2.0",
          "state": {
            "_model_module": "@jupyter-widgets/base",
            "_model_module_version": "1.2.0",
            "_model_name": "LayoutModel",
            "_view_count": null,
            "_view_module": "@jupyter-widgets/base",
            "_view_module_version": "1.2.0",
            "_view_name": "LayoutView",
            "align_content": null,
            "align_items": null,
            "align_self": null,
            "border": null,
            "bottom": null,
            "display": null,
            "flex": null,
            "flex_flow": null,
            "grid_area": null,
            "grid_auto_columns": null,
            "grid_auto_flow": null,
            "grid_auto_rows": null,
            "grid_column": null,
            "grid_gap": null,
            "grid_row": null,
            "grid_template_areas": null,
            "grid_template_columns": null,
            "grid_template_rows": null,
            "height": null,
            "justify_content": null,
            "justify_items": null,
            "left": null,
            "margin": null,
            "max_height": null,
            "max_width": null,
            "min_height": null,
            "min_width": null,
            "object_fit": null,
            "object_position": null,
            "order": null,
            "overflow": null,
            "overflow_x": null,
            "overflow_y": null,
            "padding": null,
            "right": null,
            "top": null,
            "visibility": null,
            "width": null
          }
        },
        "3bbc39979821498fa76d46b1728353e3": {
          "model_module": "@jupyter-widgets/controls",
          "model_name": "DescriptionStyleModel",
          "model_module_version": "1.5.0",
          "state": {
            "_model_module": "@jupyter-widgets/controls",
            "_model_module_version": "1.5.0",
            "_model_name": "DescriptionStyleModel",
            "_view_count": null,
            "_view_module": "@jupyter-widgets/base",
            "_view_module_version": "1.2.0",
            "_view_name": "StyleView",
            "description_width": ""
          }
        },
        "e43d7722fa3c4a7c8d05d8c30e3216f9": {
          "model_module": "@jupyter-widgets/base",
          "model_name": "LayoutModel",
          "model_module_version": "1.2.0",
          "state": {
            "_model_module": "@jupyter-widgets/base",
            "_model_module_version": "1.2.0",
            "_model_name": "LayoutModel",
            "_view_count": null,
            "_view_module": "@jupyter-widgets/base",
            "_view_module_version": "1.2.0",
            "_view_name": "LayoutView",
            "align_content": null,
            "align_items": null,
            "align_self": null,
            "border": null,
            "bottom": null,
            "display": null,
            "flex": null,
            "flex_flow": null,
            "grid_area": null,
            "grid_auto_columns": null,
            "grid_auto_flow": null,
            "grid_auto_rows": null,
            "grid_column": null,
            "grid_gap": null,
            "grid_row": null,
            "grid_template_areas": null,
            "grid_template_columns": null,
            "grid_template_rows": null,
            "height": null,
            "justify_content": null,
            "justify_items": null,
            "left": null,
            "margin": null,
            "max_height": null,
            "max_width": null,
            "min_height": null,
            "min_width": null,
            "object_fit": null,
            "object_position": null,
            "order": null,
            "overflow": null,
            "overflow_x": null,
            "overflow_y": null,
            "padding": null,
            "right": null,
            "top": null,
            "visibility": null,
            "width": null
          }
        },
        "f1b491cac5d34ab9b77e7d14080e8e1d": {
          "model_module": "@jupyter-widgets/controls",
          "model_name": "ProgressStyleModel",
          "model_module_version": "1.5.0",
          "state": {
            "_model_module": "@jupyter-widgets/controls",
            "_model_module_version": "1.5.0",
            "_model_name": "ProgressStyleModel",
            "_view_count": null,
            "_view_module": "@jupyter-widgets/base",
            "_view_module_version": "1.2.0",
            "_view_name": "StyleView",
            "bar_color": null,
            "description_width": ""
          }
        },
        "510093547c2144208e8fb6864f370643": {
          "model_module": "@jupyter-widgets/base",
          "model_name": "LayoutModel",
          "model_module_version": "1.2.0",
          "state": {
            "_model_module": "@jupyter-widgets/base",
            "_model_module_version": "1.2.0",
            "_model_name": "LayoutModel",
            "_view_count": null,
            "_view_module": "@jupyter-widgets/base",
            "_view_module_version": "1.2.0",
            "_view_name": "LayoutView",
            "align_content": null,
            "align_items": null,
            "align_self": null,
            "border": null,
            "bottom": null,
            "display": null,
            "flex": null,
            "flex_flow": null,
            "grid_area": null,
            "grid_auto_columns": null,
            "grid_auto_flow": null,
            "grid_auto_rows": null,
            "grid_column": null,
            "grid_gap": null,
            "grid_row": null,
            "grid_template_areas": null,
            "grid_template_columns": null,
            "grid_template_rows": null,
            "height": null,
            "justify_content": null,
            "justify_items": null,
            "left": null,
            "margin": null,
            "max_height": null,
            "max_width": null,
            "min_height": null,
            "min_width": null,
            "object_fit": null,
            "object_position": null,
            "order": null,
            "overflow": null,
            "overflow_x": null,
            "overflow_y": null,
            "padding": null,
            "right": null,
            "top": null,
            "visibility": null,
            "width": null
          }
        },
        "817fd5209f9e47149a58ea7fd6a0c7dd": {
          "model_module": "@jupyter-widgets/controls",
          "model_name": "DescriptionStyleModel",
          "model_module_version": "1.5.0",
          "state": {
            "_model_module": "@jupyter-widgets/controls",
            "_model_module_version": "1.5.0",
            "_model_name": "DescriptionStyleModel",
            "_view_count": null,
            "_view_module": "@jupyter-widgets/base",
            "_view_module_version": "1.2.0",
            "_view_name": "StyleView",
            "description_width": ""
          }
        },
        "734fad5d3784409980a8469eb7bc18ba": {
          "model_module": "@jupyter-widgets/controls",
          "model_name": "HBoxModel",
          "model_module_version": "1.5.0",
          "state": {
            "_dom_classes": [],
            "_model_module": "@jupyter-widgets/controls",
            "_model_module_version": "1.5.0",
            "_model_name": "HBoxModel",
            "_view_count": null,
            "_view_module": "@jupyter-widgets/controls",
            "_view_module_version": "1.5.0",
            "_view_name": "HBoxView",
            "box_style": "",
            "children": [
              "IPY_MODEL_49af02ba2753444596d724b5eeb9d8e3",
              "IPY_MODEL_a7d9444c8d824198942d784dd342952b",
              "IPY_MODEL_d859da1a5c0c4d808a206df68cf0b02e"
            ],
            "layout": "IPY_MODEL_559c55dcfa224cbfa383175536afd33e"
          }
        },
        "49af02ba2753444596d724b5eeb9d8e3": {
          "model_module": "@jupyter-widgets/controls",
          "model_name": "HTMLModel",
          "model_module_version": "1.5.0",
          "state": {
            "_dom_classes": [],
            "_model_module": "@jupyter-widgets/controls",
            "_model_module_version": "1.5.0",
            "_model_name": "HTMLModel",
            "_view_count": null,
            "_view_module": "@jupyter-widgets/controls",
            "_view_module_version": "1.5.0",
            "_view_name": "HTMLView",
            "description": "",
            "description_tooltip": null,
            "layout": "IPY_MODEL_c5ab70e53c2c45acabf07bcd08af0acf",
            "placeholder": "​",
            "style": "IPY_MODEL_9522afe18868460d92b85fbec7f31be3",
            "value": "Map: 100%"
          }
        },
        "a7d9444c8d824198942d784dd342952b": {
          "model_module": "@jupyter-widgets/controls",
          "model_name": "FloatProgressModel",
          "model_module_version": "1.5.0",
          "state": {
            "_dom_classes": [],
            "_model_module": "@jupyter-widgets/controls",
            "_model_module_version": "1.5.0",
            "_model_name": "FloatProgressModel",
            "_view_count": null,
            "_view_module": "@jupyter-widgets/controls",
            "_view_module_version": "1.5.0",
            "_view_name": "ProgressView",
            "bar_style": "success",
            "description": "",
            "description_tooltip": null,
            "layout": "IPY_MODEL_105bec057705457a83e2490049aff036",
            "max": 2175,
            "min": 0,
            "orientation": "horizontal",
            "style": "IPY_MODEL_9f295f7fab12461fa99b50d248754916",
            "value": 2175
          }
        },
        "d859da1a5c0c4d808a206df68cf0b02e": {
          "model_module": "@jupyter-widgets/controls",
          "model_name": "HTMLModel",
          "model_module_version": "1.5.0",
          "state": {
            "_dom_classes": [],
            "_model_module": "@jupyter-widgets/controls",
            "_model_module_version": "1.5.0",
            "_model_name": "HTMLModel",
            "_view_count": null,
            "_view_module": "@jupyter-widgets/controls",
            "_view_module_version": "1.5.0",
            "_view_name": "HTMLView",
            "description": "",
            "description_tooltip": null,
            "layout": "IPY_MODEL_fe6dfc6d1b6144b7a652c096fcddca27",
            "placeholder": "​",
            "style": "IPY_MODEL_298d7aca755b481b9e9d2adfd4d5ce27",
            "value": " 2175/2175 [00:01&lt;00:00, 1917.11 examples/s]"
          }
        },
        "559c55dcfa224cbfa383175536afd33e": {
          "model_module": "@jupyter-widgets/base",
          "model_name": "LayoutModel",
          "model_module_version": "1.2.0",
          "state": {
            "_model_module": "@jupyter-widgets/base",
            "_model_module_version": "1.2.0",
            "_model_name": "LayoutModel",
            "_view_count": null,
            "_view_module": "@jupyter-widgets/base",
            "_view_module_version": "1.2.0",
            "_view_name": "LayoutView",
            "align_content": null,
            "align_items": null,
            "align_self": null,
            "border": null,
            "bottom": null,
            "display": null,
            "flex": null,
            "flex_flow": null,
            "grid_area": null,
            "grid_auto_columns": null,
            "grid_auto_flow": null,
            "grid_auto_rows": null,
            "grid_column": null,
            "grid_gap": null,
            "grid_row": null,
            "grid_template_areas": null,
            "grid_template_columns": null,
            "grid_template_rows": null,
            "height": null,
            "justify_content": null,
            "justify_items": null,
            "left": null,
            "margin": null,
            "max_height": null,
            "max_width": null,
            "min_height": null,
            "min_width": null,
            "object_fit": null,
            "object_position": null,
            "order": null,
            "overflow": null,
            "overflow_x": null,
            "overflow_y": null,
            "padding": null,
            "right": null,
            "top": null,
            "visibility": null,
            "width": null
          }
        },
        "c5ab70e53c2c45acabf07bcd08af0acf": {
          "model_module": "@jupyter-widgets/base",
          "model_name": "LayoutModel",
          "model_module_version": "1.2.0",
          "state": {
            "_model_module": "@jupyter-widgets/base",
            "_model_module_version": "1.2.0",
            "_model_name": "LayoutModel",
            "_view_count": null,
            "_view_module": "@jupyter-widgets/base",
            "_view_module_version": "1.2.0",
            "_view_name": "LayoutView",
            "align_content": null,
            "align_items": null,
            "align_self": null,
            "border": null,
            "bottom": null,
            "display": null,
            "flex": null,
            "flex_flow": null,
            "grid_area": null,
            "grid_auto_columns": null,
            "grid_auto_flow": null,
            "grid_auto_rows": null,
            "grid_column": null,
            "grid_gap": null,
            "grid_row": null,
            "grid_template_areas": null,
            "grid_template_columns": null,
            "grid_template_rows": null,
            "height": null,
            "justify_content": null,
            "justify_items": null,
            "left": null,
            "margin": null,
            "max_height": null,
            "max_width": null,
            "min_height": null,
            "min_width": null,
            "object_fit": null,
            "object_position": null,
            "order": null,
            "overflow": null,
            "overflow_x": null,
            "overflow_y": null,
            "padding": null,
            "right": null,
            "top": null,
            "visibility": null,
            "width": null
          }
        },
        "9522afe18868460d92b85fbec7f31be3": {
          "model_module": "@jupyter-widgets/controls",
          "model_name": "DescriptionStyleModel",
          "model_module_version": "1.5.0",
          "state": {
            "_model_module": "@jupyter-widgets/controls",
            "_model_module_version": "1.5.0",
            "_model_name": "DescriptionStyleModel",
            "_view_count": null,
            "_view_module": "@jupyter-widgets/base",
            "_view_module_version": "1.2.0",
            "_view_name": "StyleView",
            "description_width": ""
          }
        },
        "105bec057705457a83e2490049aff036": {
          "model_module": "@jupyter-widgets/base",
          "model_name": "LayoutModel",
          "model_module_version": "1.2.0",
          "state": {
            "_model_module": "@jupyter-widgets/base",
            "_model_module_version": "1.2.0",
            "_model_name": "LayoutModel",
            "_view_count": null,
            "_view_module": "@jupyter-widgets/base",
            "_view_module_version": "1.2.0",
            "_view_name": "LayoutView",
            "align_content": null,
            "align_items": null,
            "align_self": null,
            "border": null,
            "bottom": null,
            "display": null,
            "flex": null,
            "flex_flow": null,
            "grid_area": null,
            "grid_auto_columns": null,
            "grid_auto_flow": null,
            "grid_auto_rows": null,
            "grid_column": null,
            "grid_gap": null,
            "grid_row": null,
            "grid_template_areas": null,
            "grid_template_columns": null,
            "grid_template_rows": null,
            "height": null,
            "justify_content": null,
            "justify_items": null,
            "left": null,
            "margin": null,
            "max_height": null,
            "max_width": null,
            "min_height": null,
            "min_width": null,
            "object_fit": null,
            "object_position": null,
            "order": null,
            "overflow": null,
            "overflow_x": null,
            "overflow_y": null,
            "padding": null,
            "right": null,
            "top": null,
            "visibility": null,
            "width": null
          }
        },
        "9f295f7fab12461fa99b50d248754916": {
          "model_module": "@jupyter-widgets/controls",
          "model_name": "ProgressStyleModel",
          "model_module_version": "1.5.0",
          "state": {
            "_model_module": "@jupyter-widgets/controls",
            "_model_module_version": "1.5.0",
            "_model_name": "ProgressStyleModel",
            "_view_count": null,
            "_view_module": "@jupyter-widgets/base",
            "_view_module_version": "1.2.0",
            "_view_name": "StyleView",
            "bar_color": null,
            "description_width": ""
          }
        },
        "fe6dfc6d1b6144b7a652c096fcddca27": {
          "model_module": "@jupyter-widgets/base",
          "model_name": "LayoutModel",
          "model_module_version": "1.2.0",
          "state": {
            "_model_module": "@jupyter-widgets/base",
            "_model_module_version": "1.2.0",
            "_model_name": "LayoutModel",
            "_view_count": null,
            "_view_module": "@jupyter-widgets/base",
            "_view_module_version": "1.2.0",
            "_view_name": "LayoutView",
            "align_content": null,
            "align_items": null,
            "align_self": null,
            "border": null,
            "bottom": null,
            "display": null,
            "flex": null,
            "flex_flow": null,
            "grid_area": null,
            "grid_auto_columns": null,
            "grid_auto_flow": null,
            "grid_auto_rows": null,
            "grid_column": null,
            "grid_gap": null,
            "grid_row": null,
            "grid_template_areas": null,
            "grid_template_columns": null,
            "grid_template_rows": null,
            "height": null,
            "justify_content": null,
            "justify_items": null,
            "left": null,
            "margin": null,
            "max_height": null,
            "max_width": null,
            "min_height": null,
            "min_width": null,
            "object_fit": null,
            "object_position": null,
            "order": null,
            "overflow": null,
            "overflow_x": null,
            "overflow_y": null,
            "padding": null,
            "right": null,
            "top": null,
            "visibility": null,
            "width": null
          }
        },
        "298d7aca755b481b9e9d2adfd4d5ce27": {
          "model_module": "@jupyter-widgets/controls",
          "model_name": "DescriptionStyleModel",
          "model_module_version": "1.5.0",
          "state": {
            "_model_module": "@jupyter-widgets/controls",
            "_model_module_version": "1.5.0",
            "_model_name": "DescriptionStyleModel",
            "_view_count": null,
            "_view_module": "@jupyter-widgets/base",
            "_view_module_version": "1.2.0",
            "_view_name": "StyleView",
            "description_width": ""
          }
        }
      }
    },
    "accelerator": "GPU"
  },
  "nbformat": 4,
  "nbformat_minor": 5
}